{
 "cells": [
  {
   "cell_type": "markdown",
   "id": "e6df5889",
   "metadata": {},
   "source": [
    "This script visualises gene expression patterns responding to two-factor influences."
   ]
  },
  {
   "cell_type": "code",
   "execution_count": 1,
   "id": "06d04228",
   "metadata": {},
   "outputs": [],
   "source": [
    "import pandas, numpy"
   ]
  },
  {
   "cell_type": "code",
   "execution_count": 2,
   "id": "72b63407",
   "metadata": {},
   "outputs": [],
   "source": [
    "import matplotlib, matplotlib.pyplot\n",
    "matplotlib.rcParams.update({'font.size':20, 'font.family':'sans-serif', 'xtick.labelsize':30, 'ytick.labelsize':30, 'figure.figsize':(16, 9), 'axes.labelsize':40})"
   ]
  },
  {
   "cell_type": "markdown",
   "id": "52ee501f",
   "metadata": {},
   "source": [
    "# 0. user-defined variables"
   ]
  },
  {
   "cell_type": "code",
   "execution_count": 3,
   "id": "da31321f",
   "metadata": {},
   "outputs": [],
   "source": [
    "expression_file = '/home/adrian/projects/nautholsvik/results/tpm/DESeq2_TPM_values.tsv'\n",
    "significance_dir = '/home/adrian/projects/nautholsvik/results/DEGs_DESeq2/'"
   ]
  },
  {
   "cell_type": "code",
   "execution_count": 4,
   "id": "cdbca078",
   "metadata": {},
   "outputs": [],
   "source": [
    "genotypes = ['WT', 'siCTRL', 'siMITF']\n",
    "treatments = ['wo_IFN', 'with_IFN']"
   ]
  },
  {
   "cell_type": "markdown",
   "id": "4c4f2e3c",
   "metadata": {},
   "source": [
    "# 1. read and manipulate expression data"
   ]
  },
  {
   "cell_type": "code",
   "execution_count": 5,
   "id": "e7daa27e",
   "metadata": {},
   "outputs": [],
   "source": [
    "expression_with_replicates = pandas.read_csv(expression_file, sep='\\t', index_col=0)\n",
    "log2_expression_with_replicates = numpy.log2(expression_with_replicates + 1)"
   ]
  },
  {
   "cell_type": "code",
   "execution_count": 6,
   "id": "a6565b3f",
   "metadata": {},
   "outputs": [
    {
     "data": {
      "text/html": [
       "<div>\n",
       "<style scoped>\n",
       "    .dataframe tbody tr th:only-of-type {\n",
       "        vertical-align: middle;\n",
       "    }\n",
       "\n",
       "    .dataframe tbody tr th {\n",
       "        vertical-align: top;\n",
       "    }\n",
       "\n",
       "    .dataframe thead th {\n",
       "        text-align: right;\n",
       "    }\n",
       "</style>\n",
       "<table border=\"1\" class=\"dataframe\">\n",
       "  <thead>\n",
       "    <tr style=\"text-align: right;\">\n",
       "      <th></th>\n",
       "      <th>WT_wo_IFN</th>\n",
       "      <th>WT_with_IFN</th>\n",
       "      <th>siCTRL_wo_IFN</th>\n",
       "      <th>siCTRL_with_IFN</th>\n",
       "      <th>siMITF_wo_IFN</th>\n",
       "      <th>siMITF_with_IFN</th>\n",
       "    </tr>\n",
       "  </thead>\n",
       "  <tbody>\n",
       "    <tr>\n",
       "      <th>ENSG00000000003</th>\n",
       "      <td>4.610293</td>\n",
       "      <td>4.704804</td>\n",
       "      <td>4.692929</td>\n",
       "      <td>4.573542</td>\n",
       "      <td>4.643634</td>\n",
       "      <td>4.622862</td>\n",
       "    </tr>\n",
       "    <tr>\n",
       "      <th>ENSG00000000005</th>\n",
       "      <td>0.000000</td>\n",
       "      <td>0.000000</td>\n",
       "      <td>0.000000</td>\n",
       "      <td>0.000000</td>\n",
       "      <td>0.000000</td>\n",
       "      <td>0.000000</td>\n",
       "    </tr>\n",
       "    <tr>\n",
       "      <th>ENSG00000000419</th>\n",
       "      <td>7.210053</td>\n",
       "      <td>7.286494</td>\n",
       "      <td>7.227183</td>\n",
       "      <td>7.177744</td>\n",
       "      <td>7.327914</td>\n",
       "      <td>7.300795</td>\n",
       "    </tr>\n",
       "    <tr>\n",
       "      <th>ENSG00000000457</th>\n",
       "      <td>2.790064</td>\n",
       "      <td>3.242687</td>\n",
       "      <td>2.894178</td>\n",
       "      <td>3.409461</td>\n",
       "      <td>3.362578</td>\n",
       "      <td>3.681743</td>\n",
       "    </tr>\n",
       "    <tr>\n",
       "      <th>ENSG00000000460</th>\n",
       "      <td>5.539515</td>\n",
       "      <td>5.337610</td>\n",
       "      <td>5.444717</td>\n",
       "      <td>5.084886</td>\n",
       "      <td>5.100436</td>\n",
       "      <td>4.540690</td>\n",
       "    </tr>\n",
       "  </tbody>\n",
       "</table>\n",
       "</div>"
      ],
      "text/plain": [
       "                 WT_wo_IFN  WT_with_IFN  siCTRL_wo_IFN  siCTRL_with_IFN  \\\n",
       "ENSG00000000003   4.610293     4.704804       4.692929         4.573542   \n",
       "ENSG00000000005   0.000000     0.000000       0.000000         0.000000   \n",
       "ENSG00000000419   7.210053     7.286494       7.227183         7.177744   \n",
       "ENSG00000000457   2.790064     3.242687       2.894178         3.409461   \n",
       "ENSG00000000460   5.539515     5.337610       5.444717         5.084886   \n",
       "\n",
       "                 siMITF_wo_IFN  siMITF_with_IFN  \n",
       "ENSG00000000003       4.643634         4.622862  \n",
       "ENSG00000000005       0.000000         0.000000  \n",
       "ENSG00000000419       7.327914         7.300795  \n",
       "ENSG00000000457       3.362578         3.681743  \n",
       "ENSG00000000460       5.100436         4.540690  "
      ]
     },
     "execution_count": 6,
     "metadata": {},
     "output_type": "execute_result"
    }
   ],
   "source": [
    "log2_expression = pandas.DataFrame()\n",
    "replicate_labels = log2_expression_with_replicates.columns\n",
    "\n",
    "for genotype in genotypes:\n",
    "    for treatment in treatments:\n",
    "        new_label = genotype + '_' + treatment\n",
    "        sub = [label for label in replicate_labels if genotype in label and treatment in label]\n",
    "        df = log2_expression_with_replicates[sub]\n",
    "        log2_expression[new_label] = df.median(axis=1)\n",
    "\n",
    "log2_expression.head()"
   ]
  },
  {
   "cell_type": "markdown",
   "id": "1b52e7fe",
   "metadata": {},
   "source": [
    "# 2. create a dataframe ready for plotting"
   ]
  },
  {
   "cell_type": "markdown",
   "id": "946d0678",
   "metadata": {},
   "source": [
    "This dataframe should have x, y, and transitions, significance of x and y, significance of influence, significance of transition and average expression."
   ]
  },
  {
   "cell_type": "code",
   "execution_count": 7,
   "id": "28b92bc5",
   "metadata": {},
   "outputs": [],
   "source": [
    "plotting_df = pandas.DataFrame()"
   ]
  },
  {
   "cell_type": "code",
   "execution_count": 8,
   "id": "30e68009",
   "metadata": {},
   "outputs": [],
   "source": [
    "labels = [label for label in log2_expression.columns if 'WT' not in label]\n",
    "plotting_df['average_expression'] = log2_expression[labels].mean(axis=1)\n",
    "plotting_df['max_expression'] = log2_expression[labels].max(axis=1)"
   ]
  },
  {
   "cell_type": "code",
   "execution_count": 9,
   "id": "4bc68434",
   "metadata": {},
   "outputs": [
    {
     "data": {
      "text/html": [
       "<div>\n",
       "<style scoped>\n",
       "    .dataframe tbody tr th:only-of-type {\n",
       "        vertical-align: middle;\n",
       "    }\n",
       "\n",
       "    .dataframe tbody tr th {\n",
       "        vertical-align: top;\n",
       "    }\n",
       "\n",
       "    .dataframe thead th {\n",
       "        text-align: right;\n",
       "    }\n",
       "</style>\n",
       "<table border=\"1\" class=\"dataframe\">\n",
       "  <thead>\n",
       "    <tr style=\"text-align: right;\">\n",
       "      <th></th>\n",
       "      <th>average_expression</th>\n",
       "      <th>max_expression</th>\n",
       "      <th>A1A0</th>\n",
       "      <th>B1B0</th>\n",
       "      <th>B0A0</th>\n",
       "    </tr>\n",
       "  </thead>\n",
       "  <tbody>\n",
       "    <tr>\n",
       "      <th>ENSG00000000003</th>\n",
       "      <td>4.633242</td>\n",
       "      <td>4.692929</td>\n",
       "      <td>-0.119387</td>\n",
       "      <td>-0.020772</td>\n",
       "      <td>-0.049295</td>\n",
       "    </tr>\n",
       "    <tr>\n",
       "      <th>ENSG00000000005</th>\n",
       "      <td>0.000000</td>\n",
       "      <td>0.000000</td>\n",
       "      <td>0.000000</td>\n",
       "      <td>0.000000</td>\n",
       "      <td>0.000000</td>\n",
       "    </tr>\n",
       "    <tr>\n",
       "      <th>ENSG00000000419</th>\n",
       "      <td>7.258409</td>\n",
       "      <td>7.327914</td>\n",
       "      <td>-0.049439</td>\n",
       "      <td>-0.027119</td>\n",
       "      <td>0.100731</td>\n",
       "    </tr>\n",
       "    <tr>\n",
       "      <th>ENSG00000000457</th>\n",
       "      <td>3.336990</td>\n",
       "      <td>3.681743</td>\n",
       "      <td>0.515283</td>\n",
       "      <td>0.319164</td>\n",
       "      <td>0.468401</td>\n",
       "    </tr>\n",
       "    <tr>\n",
       "      <th>ENSG00000000460</th>\n",
       "      <td>5.042682</td>\n",
       "      <td>5.444717</td>\n",
       "      <td>-0.359831</td>\n",
       "      <td>-0.559746</td>\n",
       "      <td>-0.344281</td>\n",
       "    </tr>\n",
       "  </tbody>\n",
       "</table>\n",
       "</div>"
      ],
      "text/plain": [
       "                 average_expression  max_expression      A1A0      B1B0  \\\n",
       "ENSG00000000003            4.633242        4.692929 -0.119387 -0.020772   \n",
       "ENSG00000000005            0.000000        0.000000  0.000000  0.000000   \n",
       "ENSG00000000419            7.258409        7.327914 -0.049439 -0.027119   \n",
       "ENSG00000000457            3.336990        3.681743  0.515283  0.319164   \n",
       "ENSG00000000460            5.042682        5.444717 -0.359831 -0.559746   \n",
       "\n",
       "                     B0A0  \n",
       "ENSG00000000003 -0.049295  \n",
       "ENSG00000000005  0.000000  \n",
       "ENSG00000000419  0.100731  \n",
       "ENSG00000000457  0.468401  \n",
       "ENSG00000000460 -0.344281  "
      ]
     },
     "execution_count": 9,
     "metadata": {},
     "output_type": "execute_result"
    }
   ],
   "source": [
    "# define x, y and z as for transitions\n",
    "plotting_df['A1A0'] = log2_expression['siCTRL_with_IFN'] - log2_expression['siCTRL_wo_IFN']\n",
    "plotting_df['B1B0'] = log2_expression['siMITF_with_IFN'] - log2_expression['siMITF_wo_IFN']\n",
    "plotting_df['B0A0'] = log2_expression['siMITF_wo_IFN'] - log2_expression['siCTRL_wo_IFN']\n",
    "\n",
    "plotting_df.head()"
   ]
  },
  {
   "cell_type": "markdown",
   "id": "a9804698",
   "metadata": {},
   "source": [
    "# 3. read significances"
   ]
  },
  {
   "cell_type": "code",
   "execution_count": 10,
   "id": "0daef54f",
   "metadata": {},
   "outputs": [],
   "source": [
    "# read signifcances\n",
    "df = pandas.read_csv(significance_dir+'A0_A1_transition.tsv', sep='\\t', index_col=0)\n",
    "plotting_df['P_A1A0'] = df['padj']\n",
    "\n",
    "df = pandas.read_csv(significance_dir+'B0_B1_transition.tsv', sep='\\t', index_col=0)\n",
    "plotting_df['P_B1B0'] = df['padj']\n",
    "\n",
    "df = pandas.read_csv(significance_dir+'A0_B0_transition.tsv', sep='\\t', index_col=0)\n",
    "plotting_df['P_B0A0'] = df['padj']\n",
    "\n",
    "df = pandas.read_csv(significance_dir+'interaction.tsv', sep='\\t', index_col=0)\n",
    "plotting_df['P_interaction'] = df['padj']"
   ]
  },
  {
   "cell_type": "code",
   "execution_count": 11,
   "id": "cd162c37",
   "metadata": {},
   "outputs": [],
   "source": [
    "plotting_df.fillna(1, inplace=True)"
   ]
  },
  {
   "cell_type": "code",
   "execution_count": 13,
   "id": "476f37cc",
   "metadata": {},
   "outputs": [
    {
     "name": "stdout",
     "output_type": "stream",
     "text": [
      "(40173, 9)\n",
      "(12742, 9)\n"
     ]
    }
   ],
   "source": [
    "# remove low-expression genes: less than two tpm\n",
    "print(plotting_df.shape)\n",
    "plotting_df.drop(plotting_df[plotting_df['max_expression'] < numpy.log2(2+1)].index, inplace=True)\n",
    "print(plotting_df.shape)"
   ]
  },
  {
   "cell_type": "code",
   "execution_count": 14,
   "id": "4389f342",
   "metadata": {},
   "outputs": [
    {
     "data": {
      "text/html": [
       "<div>\n",
       "<style scoped>\n",
       "    .dataframe tbody tr th:only-of-type {\n",
       "        vertical-align: middle;\n",
       "    }\n",
       "\n",
       "    .dataframe tbody tr th {\n",
       "        vertical-align: top;\n",
       "    }\n",
       "\n",
       "    .dataframe thead th {\n",
       "        text-align: right;\n",
       "    }\n",
       "</style>\n",
       "<table border=\"1\" class=\"dataframe\">\n",
       "  <thead>\n",
       "    <tr style=\"text-align: right;\">\n",
       "      <th></th>\n",
       "      <th>average_expression</th>\n",
       "      <th>max_expression</th>\n",
       "      <th>A1A0</th>\n",
       "      <th>B1B0</th>\n",
       "      <th>B0A0</th>\n",
       "      <th>P_A1A0</th>\n",
       "      <th>P_B1B0</th>\n",
       "      <th>P_B0A0</th>\n",
       "      <th>P_interaction</th>\n",
       "    </tr>\n",
       "  </thead>\n",
       "  <tbody>\n",
       "    <tr>\n",
       "      <th>ENSG00000000003</th>\n",
       "      <td>4.633242</td>\n",
       "      <td>4.692929</td>\n",
       "      <td>-0.119387</td>\n",
       "      <td>-0.020772</td>\n",
       "      <td>-0.049295</td>\n",
       "      <td>1.000000e+00</td>\n",
       "      <td>1.000000e+00</td>\n",
       "      <td>1.000000</td>\n",
       "      <td>1.000000e+00</td>\n",
       "    </tr>\n",
       "    <tr>\n",
       "      <th>ENSG00000000419</th>\n",
       "      <td>7.258409</td>\n",
       "      <td>7.327914</td>\n",
       "      <td>-0.049439</td>\n",
       "      <td>-0.027119</td>\n",
       "      <td>0.100731</td>\n",
       "      <td>1.000000e+00</td>\n",
       "      <td>1.000000e+00</td>\n",
       "      <td>1.000000</td>\n",
       "      <td>1.000000e+00</td>\n",
       "    </tr>\n",
       "    <tr>\n",
       "      <th>ENSG00000000457</th>\n",
       "      <td>3.336990</td>\n",
       "      <td>3.681743</td>\n",
       "      <td>0.515283</td>\n",
       "      <td>0.319164</td>\n",
       "      <td>0.468401</td>\n",
       "      <td>1.000000e+00</td>\n",
       "      <td>1.000000e+00</td>\n",
       "      <td>1.000000</td>\n",
       "      <td>1.000000e+00</td>\n",
       "    </tr>\n",
       "    <tr>\n",
       "      <th>ENSG00000000460</th>\n",
       "      <td>5.042682</td>\n",
       "      <td>5.444717</td>\n",
       "      <td>-0.359831</td>\n",
       "      <td>-0.559746</td>\n",
       "      <td>-0.344281</td>\n",
       "      <td>1.000000e+00</td>\n",
       "      <td>1.000000e+00</td>\n",
       "      <td>1.000000</td>\n",
       "      <td>1.000000e+00</td>\n",
       "    </tr>\n",
       "    <tr>\n",
       "      <th>ENSG00000000971</th>\n",
       "      <td>1.450129</td>\n",
       "      <td>3.382358</td>\n",
       "      <td>1.352847</td>\n",
       "      <td>3.209656</td>\n",
       "      <td>-0.273603</td>\n",
       "      <td>4.909581e-46</td>\n",
       "      <td>6.452543e-17</td>\n",
       "      <td>0.003251</td>\n",
       "      <td>3.700648e-16</td>\n",
       "    </tr>\n",
       "  </tbody>\n",
       "</table>\n",
       "</div>"
      ],
      "text/plain": [
       "                 average_expression  max_expression      A1A0      B1B0  \\\n",
       "ENSG00000000003            4.633242        4.692929 -0.119387 -0.020772   \n",
       "ENSG00000000419            7.258409        7.327914 -0.049439 -0.027119   \n",
       "ENSG00000000457            3.336990        3.681743  0.515283  0.319164   \n",
       "ENSG00000000460            5.042682        5.444717 -0.359831 -0.559746   \n",
       "ENSG00000000971            1.450129        3.382358  1.352847  3.209656   \n",
       "\n",
       "                     B0A0        P_A1A0        P_B1B0    P_B0A0  P_interaction  \n",
       "ENSG00000000003 -0.049295  1.000000e+00  1.000000e+00  1.000000   1.000000e+00  \n",
       "ENSG00000000419  0.100731  1.000000e+00  1.000000e+00  1.000000   1.000000e+00  \n",
       "ENSG00000000457  0.468401  1.000000e+00  1.000000e+00  1.000000   1.000000e+00  \n",
       "ENSG00000000460 -0.344281  1.000000e+00  1.000000e+00  1.000000   1.000000e+00  \n",
       "ENSG00000000971 -0.273603  4.909581e-46  6.452543e-17  0.003251   3.700648e-16  "
      ]
     },
     "execution_count": 14,
     "metadata": {},
     "output_type": "execute_result"
    }
   ],
   "source": [
    "plotting_df.head()"
   ]
  },
  {
   "cell_type": "code",
   "execution_count": 15,
   "id": "2b46552a",
   "metadata": {},
   "outputs": [
    {
     "name": "stdout",
     "output_type": "stream",
     "text": [
      "467\n",
      "507\n",
      "1052\n",
      "631\n"
     ]
    }
   ],
   "source": [
    "print(sum(plotting_df['P_A1A0'] < 0.1))\n",
    "print(sum(plotting_df['P_B1B0'] < 0.1))\n",
    "print(sum(plotting_df['P_B0A0'] < 0.1))\n",
    "print(sum(plotting_df['P_interaction'] < 0.1))"
   ]
  },
  {
   "cell_type": "code",
   "execution_count": 16,
   "id": "4d48b305",
   "metadata": {},
   "outputs": [
    {
     "name": "stdout",
     "output_type": "stream",
     "text": [
      "True\n",
      "True\n"
     ]
    }
   ],
   "source": [
    "# check if MITF is A0 to B0 transition\n",
    "print('ENSG00000187098' in plotting_df[plotting_df['P_B0A0'] < 0.1].index)\n",
    "\n",
    "# check if PD-L1 is a gene with significant interaction\n",
    "print('ENSG00000120217' in plotting_df[plotting_df['P_interaction'] < 0.1].index)"
   ]
  },
  {
   "cell_type": "markdown",
   "id": "dc527156",
   "metadata": {},
   "source": [
    "# 3. plot"
   ]
  },
  {
   "cell_type": "code",
   "execution_count": 17,
   "id": "ecaa3c3c",
   "metadata": {},
   "outputs": [
    {
     "data": {
      "text/plain": [
       "(1030, 9)"
      ]
     },
     "execution_count": 17,
     "metadata": {},
     "output_type": "execute_result"
    }
   ],
   "source": [
    "# select genes that will be plotted\n",
    "rules = (plotting_df['P_A1A0'] < 0.1) | (plotting_df['P_B1B0'] < 0.1) | (plotting_df['P_interaction'] < 0.1)\n",
    "scatter_df = plotting_df[rules]\n",
    "scatter_df.shape"
   ]
  },
  {
   "cell_type": "code",
   "execution_count": 18,
   "id": "3e635099",
   "metadata": {},
   "outputs": [
    {
     "data": {
      "text/html": [
       "<div>\n",
       "<style scoped>\n",
       "    .dataframe tbody tr th:only-of-type {\n",
       "        vertical-align: middle;\n",
       "    }\n",
       "\n",
       "    .dataframe tbody tr th {\n",
       "        vertical-align: top;\n",
       "    }\n",
       "\n",
       "    .dataframe thead th {\n",
       "        text-align: right;\n",
       "    }\n",
       "</style>\n",
       "<table border=\"1\" class=\"dataframe\">\n",
       "  <thead>\n",
       "    <tr style=\"text-align: right;\">\n",
       "      <th></th>\n",
       "      <th>average_expression</th>\n",
       "      <th>max_expression</th>\n",
       "      <th>A1A0</th>\n",
       "      <th>B1B0</th>\n",
       "      <th>B0A0</th>\n",
       "      <th>P_A1A0</th>\n",
       "      <th>P_B1B0</th>\n",
       "      <th>P_B0A0</th>\n",
       "      <th>P_interaction</th>\n",
       "    </tr>\n",
       "  </thead>\n",
       "  <tbody>\n",
       "    <tr>\n",
       "      <th>ENSG00000000971</th>\n",
       "      <td>1.450129</td>\n",
       "      <td>3.382358</td>\n",
       "      <td>1.352847</td>\n",
       "      <td>3.209656</td>\n",
       "      <td>-0.273603</td>\n",
       "      <td>4.909581e-46</td>\n",
       "      <td>6.452543e-17</td>\n",
       "      <td>3.251351e-03</td>\n",
       "      <td>3.700648e-16</td>\n",
       "    </tr>\n",
       "    <tr>\n",
       "      <th>ENSG00000001617</th>\n",
       "      <td>2.530528</td>\n",
       "      <td>4.237296</td>\n",
       "      <td>1.934280</td>\n",
       "      <td>3.343321</td>\n",
       "      <td>-0.634306</td>\n",
       "      <td>2.693530e-60</td>\n",
       "      <td>2.163420e-165</td>\n",
       "      <td>1.073405e-08</td>\n",
       "      <td>6.015352e-14</td>\n",
       "    </tr>\n",
       "    <tr>\n",
       "      <th>ENSG00000002549</th>\n",
       "      <td>7.277011</td>\n",
       "      <td>8.620094</td>\n",
       "      <td>1.800322</td>\n",
       "      <td>2.502722</td>\n",
       "      <td>-0.167754</td>\n",
       "      <td>1.209158e-84</td>\n",
       "      <td>5.435859e-202</td>\n",
       "      <td>1.000000e+00</td>\n",
       "      <td>2.649351e-07</td>\n",
       "    </tr>\n",
       "    <tr>\n",
       "      <th>ENSG00000003056</th>\n",
       "      <td>7.643805</td>\n",
       "      <td>7.966329</td>\n",
       "      <td>-0.027627</td>\n",
       "      <td>0.178039</td>\n",
       "      <td>-0.720254</td>\n",
       "      <td>1.000000e+00</td>\n",
       "      <td>1.000000e+00</td>\n",
       "      <td>1.000000e+00</td>\n",
       "      <td>2.131673e-02</td>\n",
       "    </tr>\n",
       "    <tr>\n",
       "      <th>ENSG00000004487</th>\n",
       "      <td>6.929774</td>\n",
       "      <td>7.772294</td>\n",
       "      <td>0.837383</td>\n",
       "      <td>-0.052097</td>\n",
       "      <td>-0.402918</td>\n",
       "      <td>1.000000e+00</td>\n",
       "      <td>1.000000e+00</td>\n",
       "      <td>1.000000e+00</td>\n",
       "      <td>3.064888e-27</td>\n",
       "    </tr>\n",
       "    <tr>\n",
       "      <th>...</th>\n",
       "      <td>...</td>\n",
       "      <td>...</td>\n",
       "      <td>...</td>\n",
       "      <td>...</td>\n",
       "      <td>...</td>\n",
       "      <td>...</td>\n",
       "      <td>...</td>\n",
       "      <td>...</td>\n",
       "      <td>...</td>\n",
       "    </tr>\n",
       "    <tr>\n",
       "      <th>ENSG00000285417</th>\n",
       "      <td>2.369644</td>\n",
       "      <td>2.934850</td>\n",
       "      <td>0.676430</td>\n",
       "      <td>0.995775</td>\n",
       "      <td>-0.025035</td>\n",
       "      <td>1.000000e+00</td>\n",
       "      <td>1.378931e-04</td>\n",
       "      <td>1.000000e+00</td>\n",
       "      <td>1.000000e+00</td>\n",
       "    </tr>\n",
       "    <tr>\n",
       "      <th>ENSG00000285485</th>\n",
       "      <td>3.683206</td>\n",
       "      <td>4.011724</td>\n",
       "      <td>0.375752</td>\n",
       "      <td>-0.087283</td>\n",
       "      <td>0.801271</td>\n",
       "      <td>1.000000e+00</td>\n",
       "      <td>1.000000e+00</td>\n",
       "      <td>1.000000e+00</td>\n",
       "      <td>8.995258e-02</td>\n",
       "    </tr>\n",
       "    <tr>\n",
       "      <th>ENSG00000285566</th>\n",
       "      <td>3.001435</td>\n",
       "      <td>3.525255</td>\n",
       "      <td>0.855002</td>\n",
       "      <td>0.854446</td>\n",
       "      <td>0.193471</td>\n",
       "      <td>1.000000e+00</td>\n",
       "      <td>1.873049e-09</td>\n",
       "      <td>1.000000e+00</td>\n",
       "      <td>1.000000e+00</td>\n",
       "    </tr>\n",
       "    <tr>\n",
       "      <th>ENSG00000285942</th>\n",
       "      <td>1.667538</td>\n",
       "      <td>1.991441</td>\n",
       "      <td>0.094384</td>\n",
       "      <td>0.349174</td>\n",
       "      <td>-0.680817</td>\n",
       "      <td>1.000000e+00</td>\n",
       "      <td>1.000000e+00</td>\n",
       "      <td>2.176589e-14</td>\n",
       "      <td>7.264890e-02</td>\n",
       "    </tr>\n",
       "    <tr>\n",
       "      <th>ENSG00000288373</th>\n",
       "      <td>1.107647</td>\n",
       "      <td>1.597929</td>\n",
       "      <td>0.129712</td>\n",
       "      <td>0.787544</td>\n",
       "      <td>-0.135895</td>\n",
       "      <td>1.000000e+00</td>\n",
       "      <td>3.251618e-02</td>\n",
       "      <td>1.000000e+00</td>\n",
       "      <td>1.000000e+00</td>\n",
       "    </tr>\n",
       "  </tbody>\n",
       "</table>\n",
       "<p>1030 rows × 9 columns</p>\n",
       "</div>"
      ],
      "text/plain": [
       "                 average_expression  max_expression      A1A0      B1B0  \\\n",
       "ENSG00000000971            1.450129        3.382358  1.352847  3.209656   \n",
       "ENSG00000001617            2.530528        4.237296  1.934280  3.343321   \n",
       "ENSG00000002549            7.277011        8.620094  1.800322  2.502722   \n",
       "ENSG00000003056            7.643805        7.966329 -0.027627  0.178039   \n",
       "ENSG00000004487            6.929774        7.772294  0.837383 -0.052097   \n",
       "...                             ...             ...       ...       ...   \n",
       "ENSG00000285417            2.369644        2.934850  0.676430  0.995775   \n",
       "ENSG00000285485            3.683206        4.011724  0.375752 -0.087283   \n",
       "ENSG00000285566            3.001435        3.525255  0.855002  0.854446   \n",
       "ENSG00000285942            1.667538        1.991441  0.094384  0.349174   \n",
       "ENSG00000288373            1.107647        1.597929  0.129712  0.787544   \n",
       "\n",
       "                     B0A0        P_A1A0         P_B1B0        P_B0A0  \\\n",
       "ENSG00000000971 -0.273603  4.909581e-46   6.452543e-17  3.251351e-03   \n",
       "ENSG00000001617 -0.634306  2.693530e-60  2.163420e-165  1.073405e-08   \n",
       "ENSG00000002549 -0.167754  1.209158e-84  5.435859e-202  1.000000e+00   \n",
       "ENSG00000003056 -0.720254  1.000000e+00   1.000000e+00  1.000000e+00   \n",
       "ENSG00000004487 -0.402918  1.000000e+00   1.000000e+00  1.000000e+00   \n",
       "...                   ...           ...            ...           ...   \n",
       "ENSG00000285417 -0.025035  1.000000e+00   1.378931e-04  1.000000e+00   \n",
       "ENSG00000285485  0.801271  1.000000e+00   1.000000e+00  1.000000e+00   \n",
       "ENSG00000285566  0.193471  1.000000e+00   1.873049e-09  1.000000e+00   \n",
       "ENSG00000285942 -0.680817  1.000000e+00   1.000000e+00  2.176589e-14   \n",
       "ENSG00000288373 -0.135895  1.000000e+00   3.251618e-02  1.000000e+00   \n",
       "\n",
       "                 P_interaction  \n",
       "ENSG00000000971   3.700648e-16  \n",
       "ENSG00000001617   6.015352e-14  \n",
       "ENSG00000002549   2.649351e-07  \n",
       "ENSG00000003056   2.131673e-02  \n",
       "ENSG00000004487   3.064888e-27  \n",
       "...                        ...  \n",
       "ENSG00000285417   1.000000e+00  \n",
       "ENSG00000285485   8.995258e-02  \n",
       "ENSG00000285566   1.000000e+00  \n",
       "ENSG00000285942   7.264890e-02  \n",
       "ENSG00000288373   1.000000e+00  \n",
       "\n",
       "[1030 rows x 9 columns]"
      ]
     },
     "execution_count": 18,
     "metadata": {},
     "output_type": "execute_result"
    }
   ],
   "source": [
    "scatter_df"
   ]
  },
  {
   "cell_type": "code",
   "execution_count": null,
   "id": "ca2b3388",
   "metadata": {},
   "outputs": [],
   "source": []
  },
  {
   "cell_type": "code",
   "execution_count": 58,
   "id": "695a708b",
   "metadata": {},
   "outputs": [
    {
     "name": "stdout",
     "output_type": "stream",
     "text": [
      "8.084180132075929\n",
      "-1.5025516325277113\n",
      "8.88902963726265\n",
      "-1.714038627059151\n"
     ]
    }
   ],
   "source": [
    "print(numpy.max(scatter_df['A1A0']))\n",
    "print(numpy.min(scatter_df['A1A0']))\n",
    "\n",
    "print(numpy.max(scatter_df['B1B0']))\n",
    "print(numpy.min(scatter_df['B1B0']))\n",
    "\n",
    "top = 8.88902963726265\n",
    "bottom = -1.714038627059151 "
   ]
  },
  {
   "cell_type": "code",
   "execution_count": 73,
   "id": "32ad70ef",
   "metadata": {
    "scrolled": false
   },
   "outputs": [
    {
     "name": "stdout",
     "output_type": "stream",
     "text": [
      "1.9065063528762167 3.237379195787593\n"
     ]
    },
    {
     "data": {
      "image/png": "[encoded data removed]",
      "text/plain": [
       "<Figure size 1152x648 with 1 Axes>"
      ]
     },
     "metadata": {
      "needs_background": "light"
     },
     "output_type": "display_data"
    }
   ],
   "source": [
    "def color_definer(x, y):\n",
    "    the_color = None\n",
    "    if x < -1:\n",
    "        if y > 1:\n",
    "            the_color = 'tab:green'\n",
    "        else:\n",
    "            the_color = 'tab:red'\n",
    "    elif -1 < x < -numpy.log2(1.5) or numpy.log2(1.5) < x < 1:\n",
    "        the_color = 'gold'\n",
    "    elif -numpy.log2(1.5) < x < numpy.log2(1.5):\n",
    "        if y > 1:\n",
    "            the_color = 'magenta'\n",
    "        elif y < -1:\n",
    "            the_color = 'cyan'\n",
    "        else:\n",
    "            the_color = 'gold'\n",
    "    elif x > 1:\n",
    "        if y > x:\n",
    "            the_color = 'tab:orange'\n",
    "        else:\n",
    "            if y > 1:\n",
    "                the_color = 'tab:purple'\n",
    "            elif -numpy.log2(1.5) < y < numpy.log2(1.5):\n",
    "                the_color = 'tab:blue'\n",
    "            else:\n",
    "                the_color = 'gold'\n",
    "    else:\n",
    "        print('ERROR')\n",
    "    \n",
    "    return the_color\n",
    "\n",
    "for ensembl in scatter_df.index:\n",
    "    x = scatter_df.loc[ensembl, 'A1A0']\n",
    "    y = scatter_df.loc[ensembl, 'B1B0']\n",
    "    \n",
    "    if ensembl == 'ENSG00000120217': # PD-L1\n",
    "        print(x, y)\n",
    "    \n",
    "    if scatter_df.loc[ensembl, 'P_interaction'] < 0.1:\n",
    "        the_marker = '*'\n",
    "        the_size = 500\n",
    "    else:\n",
    "        the_marker = '.'\n",
    "        the_size = 200\n",
    "    \n",
    "    if numpy.abs(x-y) >= 1:        \n",
    "        the_color = color_definer(x, y)\n",
    "        matplotlib.pyplot.scatter(x, y, s=the_size, c=the_color, alpha=2/3, marker=the_marker, edgecolors='none')\n",
    "\n",
    "# middle lines\n",
    "matplotlib.pyplot.plot([1, top], [1, top], color='black', lw=2)\n",
    "matplotlib.pyplot.plot([bottom, -1], [bottom, -1], color='black', lw=2)\n",
    "# positive synergy\n",
    "matplotlib.pyplot.plot([1, top-1], [1+1, top], color='black', ls=':')\n",
    "matplotlib.pyplot.vlines(1, ymin=2, ymax=top, color='black', ls=':')\n",
    "# magenta borders\n",
    "matplotlib.pyplot.vlines(numpy.log2(1.5), ymin=1, ymax=top, color='black', ls=':')\n",
    "matplotlib.pyplot.vlines(-numpy.log2(1.5), ymin=1, ymax=top, color='black', ls=':')\n",
    "matplotlib.pyplot.hlines(1, xmin=-numpy.log2(1.5), xmax=numpy.log2(1.5), color='black', ls=':')\n",
    "# cyan borders\n",
    "matplotlib.pyplot.vlines(numpy.log2(1.5), ymin=bottom, ymax=-1, color='black', ls=':')\n",
    "matplotlib.pyplot.vlines(-numpy.log2(1.5), ymin=bottom, ymax=-1, color='black', ls=':')\n",
    "matplotlib.pyplot.hlines(-1, xmin=-numpy.log2(1.5), xmax=numpy.log2(1.5), color='black', ls=':')\n",
    "# blue borders\n",
    "matplotlib.pyplot.hlines(numpy.log2(1.5), xmin=1, xmax=top, color='black', ls=':')\n",
    "matplotlib.pyplot.hlines(-numpy.log2(1.5), xmin=1, xmax=top, color='black', ls=':')\n",
    "matplotlib.pyplot.vlines(1, ymin=-numpy.log2(1.5), ymax=numpy.log2(1.5), color='black', ls=':')\n",
    "# flipped lower corner\n",
    "matplotlib.pyplot.hlines(-1, xmin=1, xmax=top, color='black', ls=':')\n",
    "matplotlib.pyplot.vlines(1, ymin=bottom, ymax=-1, color='black', ls=':')\n",
    "# flipped upper corner\n",
    "matplotlib.pyplot.hlines(1, xmin=bottom, xmax=-1, color='black', ls=':')\n",
    "matplotlib.pyplot.vlines(-1, ymin=1, ymax=top, color='black', ls=':')\n",
    "# positive antagonism\n",
    "matplotlib.pyplot.plot([2, top], [1, top-1], color='black', ls=':')\n",
    "matplotlib.pyplot.hlines(1, xmin=2, xmax=top, color='black', ls=':')\n",
    "# new red quadrand\n",
    "matplotlib.pyplot.hlines(numpy.log2(1.5), xmin=bottom, xmax=-1, color='black', ls=':')\n",
    "matplotlib.pyplot.hlines(-numpy.log2(1.5), xmin=bottom, xmax=-1, color='black', ls=':')\n",
    "matplotlib.pyplot.vlines(-1, ymin=-numpy.log2(1.5), ymax=numpy.log2(1.5), color='black', ls=':')\n",
    "\n",
    "matplotlib.pyplot.xlim([-2, 9.2])\n",
    "matplotlib.pyplot.ylim([-2, 9.2])\n",
    "\n",
    "matplotlib.pyplot.grid(alpha=0.5, ls=':')\n",
    "matplotlib.pyplot.xlabel('CTRL IFN response [log$_2$FC]')\n",
    "matplotlib.pyplot.ylabel('siMITF IFN response [log$_2$FC]')\n",
    "matplotlib.pyplot.gca().set_aspect('equal', 'box')\n",
    "\n",
    "matplotlib.pyplot.xticks([-1, 0, 1, 2, 3, 4, 5, 6, 7, 8, 9])\n",
    "matplotlib.pyplot.yticks([-1, 0, 1, 2, 3, 4, 5, 6, 7, 8, 9])\n",
    "\n",
    "matplotlib.pyplot.tight_layout()"
   ]
  },
  {
   "cell_type": "code",
   "execution_count": 21,
   "id": "79442cc2",
   "metadata": {},
   "outputs": [],
   "source": [
    "#TODO\n",
    "\n",
    "\n",
    "# print the genes\n",
    "# consider plotting some  names\n",
    "# legend with synergy names\n",
    "# repeat the plot with size as average expression and color as fc of A0 to B0. \n",
    "# plot all cases in expression coordinates to check patterns are evident"
   ]
  },
  {
   "cell_type": "code",
   "execution_count": null,
   "id": "87e22e7a",
   "metadata": {},
   "outputs": [],
   "source": [
    "https://www.ncbi.nlm.nih.gov/pmc/articles/PMC4395182/ for nomenclature\n",
    "\n",
    "- purple: positive antagonistic\n",
    "- orange: positive synergistic \n",
    "    "
   ]
  },
  {
   "cell_type": "code",
   "execution_count": null,
   "id": "cb503b90",
   "metadata": {},
   "outputs": [],
   "source": []
  }
 ],
 "metadata": {
  "kernelspec": {
   "display_name": "Python 3",
   "language": "python",
   "name": "python3"
  },
  "language_info": {
   "codemirror_mode": {
    "name": "ipython",
    "version": 3
   },
   "file_extension": ".py",
   "mimetype": "text/x-python",
   "name": "python",
   "nbconvert_exporter": "python",
   "pygments_lexer": "ipython3",
   "version": "3.8.13"
  }
 },
 "nbformat": 4,
 "nbformat_minor": 5
}
