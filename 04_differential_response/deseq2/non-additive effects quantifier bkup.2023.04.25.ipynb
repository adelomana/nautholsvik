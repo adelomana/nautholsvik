{
 "cells": [
  {
   "cell_type": "markdown",
   "id": "88e7f2a7",
   "metadata": {},
   "source": [
    "This script quantifies non-additive effects as in PMID 25897392."
   ]
  },
  {
   "cell_type": "code",
   "execution_count": 25,
   "id": "b88b9d24",
   "metadata": {},
   "outputs": [],
   "source": [
    "import pandas, numpy, matplotlib_venn, os"
   ]
  },
  {
   "cell_type": "code",
   "execution_count": 2,
   "id": "f3ad0d96",
   "metadata": {},
   "outputs": [],
   "source": [
    "import matplotlib, matplotlib.pyplot\n",
    "matplotlib.rcParams.update({\n",
    "    'font.size':20, \n",
    "    'font.family':'sans-serif', \n",
    "    'xtick.labelsize':30, \n",
    "    'ytick.labelsize':30, \n",
    "    'figure.figsize':(16, 9), \n",
    "    'axes.labelsize':40, \n",
    "    'svg.fonttype':'none'\n",
    "})"
   ]
  },
  {
   "cell_type": "markdown",
   "id": "0119da99",
   "metadata": {},
   "source": [
    "# 0. user-defined variables"
   ]
  },
  {
   "cell_type": "code",
   "execution_count": 3,
   "id": "39e50de0",
   "metadata": {},
   "outputs": [],
   "source": [
    "expression_file = '/home/adrian/projects/nautholsvik/results/tpm/DESeq2_TPM_values.tsv'\n",
    "significance_dir = '/home/adrian/projects/nautholsvik/results/DEGs_DESeq2/'\n",
    "annotation_file = '/home/adrian/projects/nautholsvik/results/annotation/annotation.csv'\n",
    "\n",
    "expression_figures_dir = '/home/adrian/projects/nautholsvik/results/non-additive/'"
   ]
  },
  {
   "cell_type": "code",
   "execution_count": 4,
   "id": "77bac1c4",
   "metadata": {},
   "outputs": [],
   "source": [
    "genotypes = ['siCTRL', 'siMITF']\n",
    "treatments = ['wo_IFN', 'with_IFN']"
   ]
  },
  {
   "cell_type": "markdown",
   "id": "e2a68e15",
   "metadata": {},
   "source": [
    "# 1. read annotation"
   ]
  },
  {
   "cell_type": "code",
   "execution_count": 5,
   "id": "82aa13c4",
   "metadata": {},
   "outputs": [
    {
     "name": "stdout",
     "output_type": "stream",
     "text": [
      "(68324, 2)\n"
     ]
    }
   ],
   "source": [
    "raw = {}\n",
    "with open(annotation_file, 'r') as f:\n",
    "    header = f.readline()\n",
    "    for line in f:\n",
    "        v = line.split(',')\n",
    "        v = [element.replace('\"', '') for element in v]\n",
    "        v[-1] = v[-1].replace('\\n', '')\n",
    "        \n",
    "        gene_name = ''\n",
    "        ensembl = v[2]\n",
    "        gene_name = v[3]\n",
    "        description = v[4].split('[Source')[0]\n",
    "        if gene_name == '':\n",
    "            gene_name = ensembl\n",
    "            \n",
    "        #if ensembl == 'ENSG00000096150':\n",
    "        #    print(v)\n",
    "            \n",
    "        raw[ensembl] = [gene_name, description]\n",
    "        \n",
    "# create a dataframe\n",
    "df = pandas.DataFrame.from_dict(raw)\n",
    "annotation = df.transpose()\n",
    "annotation.columns = ['gene_name', 'description']\n",
    "print(annotation.shape)"
   ]
  },
  {
   "cell_type": "code",
   "execution_count": 6,
   "id": "d97f6042",
   "metadata": {},
   "outputs": [],
   "source": [
    "# print(annotation.loc['ENSG00000096150', ])\n",
    "# print(annotation.loc['ENSG00000210049', ])"
   ]
  },
  {
   "cell_type": "code",
   "execution_count": 7,
   "id": "54d2ea9f",
   "metadata": {},
   "outputs": [],
   "source": [
    "# annotation = pandas.read_csv(annotation_file, sep=',', index_col='ens_gene')\n",
    "# annotation.drop(columns=['Unnamed: 0', 'target_id'], inplace=True)\n",
    "# annotation.drop_duplicates(inplace=True)\n",
    "# print(annotation.shape)"
   ]
  },
  {
   "cell_type": "markdown",
   "id": "ac605a49",
   "metadata": {},
   "source": [
    "# 2. read and manipulate expression data"
   ]
  },
  {
   "cell_type": "code",
   "execution_count": 8,
   "id": "2692fc2d",
   "metadata": {},
   "outputs": [],
   "source": [
    "expression_with_replicates = pandas.read_csv(expression_file, sep='\\t', index_col=0)"
   ]
  },
  {
   "cell_type": "code",
   "execution_count": 9,
   "id": "fad84a8f",
   "metadata": {
    "scrolled": true
   },
   "outputs": [],
   "source": [
    "plotting_df = pandas.DataFrame()\n",
    "replicate_labels = expression_with_replicates.columns\n",
    "\n",
    "for genotype in genotypes:\n",
    "    for treatment in treatments:\n",
    "        new_label = genotype + '_' + treatment + '_tpm'\n",
    "        sub = [label for label in replicate_labels if genotype in label and treatment in label]\n",
    "        df = expression_with_replicates[sub]\n",
    "        plotting_df[new_label] = df.median(axis=1)"
   ]
  },
  {
   "cell_type": "code",
   "execution_count": 10,
   "id": "0a4d8d34",
   "metadata": {},
   "outputs": [
    {
     "name": "stdout",
     "output_type": "stream",
     "text": [
      "(40173, 8)\n"
     ]
    },
    {
     "data": {
      "text/html": [
       "<div>\n",
       "<style scoped>\n",
       "    .dataframe tbody tr th:only-of-type {\n",
       "        vertical-align: middle;\n",
       "    }\n",
       "\n",
       "    .dataframe tbody tr th {\n",
       "        vertical-align: top;\n",
       "    }\n",
       "\n",
       "    .dataframe thead th {\n",
       "        text-align: right;\n",
       "    }\n",
       "</style>\n",
       "<table border=\"1\" class=\"dataframe\">\n",
       "  <thead>\n",
       "    <tr style=\"text-align: right;\">\n",
       "      <th></th>\n",
       "      <th>siCTRL_wo_IFN_tpm</th>\n",
       "      <th>siCTRL_with_IFN_tpm</th>\n",
       "      <th>siMITF_wo_IFN_tpm</th>\n",
       "      <th>siMITF_with_IFN_tpm</th>\n",
       "      <th>average_expression_tpm</th>\n",
       "      <th>max_expression_tpm</th>\n",
       "      <th>geneID</th>\n",
       "      <th>description</th>\n",
       "    </tr>\n",
       "  </thead>\n",
       "  <tbody>\n",
       "    <tr>\n",
       "      <th>ENSG00000000003</th>\n",
       "      <td>24.864996</td>\n",
       "      <td>22.810767</td>\n",
       "      <td>23.996147</td>\n",
       "      <td>23.638828</td>\n",
       "      <td>23.827684</td>\n",
       "      <td>24.864996</td>\n",
       "      <td>TSPAN6</td>\n",
       "      <td>tetraspanin 6</td>\n",
       "    </tr>\n",
       "    <tr>\n",
       "      <th>ENSG00000000005</th>\n",
       "      <td>0.000000</td>\n",
       "      <td>0.000000</td>\n",
       "      <td>0.000000</td>\n",
       "      <td>0.000000</td>\n",
       "      <td>0.000000</td>\n",
       "      <td>0.000000</td>\n",
       "      <td>TNMD</td>\n",
       "      <td>tenomodulin</td>\n",
       "    </tr>\n",
       "    <tr>\n",
       "      <th>ENSG00000000419</th>\n",
       "      <td>148.830008</td>\n",
       "      <td>143.782572</td>\n",
       "      <td>159.665244</td>\n",
       "      <td>156.673309</td>\n",
       "      <td>152.237783</td>\n",
       "      <td>159.665244</td>\n",
       "      <td>DPM1</td>\n",
       "      <td>dolichyl-phosphate mannosyltransferase subunit 1</td>\n",
       "    </tr>\n",
       "    <tr>\n",
       "      <th>ENSG00000000457</th>\n",
       "      <td>6.434201</td>\n",
       "      <td>9.625513</td>\n",
       "      <td>9.285772</td>\n",
       "      <td>11.832608</td>\n",
       "      <td>9.294523</td>\n",
       "      <td>11.832608</td>\n",
       "      <td>SCYL3</td>\n",
       "      <td>SCY1 like pseudokinase 3</td>\n",
       "    </tr>\n",
       "    <tr>\n",
       "      <th>ENSG00000000460</th>\n",
       "      <td>42.553495</td>\n",
       "      <td>32.939327</td>\n",
       "      <td>33.307114</td>\n",
       "      <td>22.274693</td>\n",
       "      <td>32.768657</td>\n",
       "      <td>42.553495</td>\n",
       "      <td>C1orf112</td>\n",
       "      <td>chromosome 1 open reading frame 112</td>\n",
       "    </tr>\n",
       "  </tbody>\n",
       "</table>\n",
       "</div>"
      ],
      "text/plain": [
       "                 siCTRL_wo_IFN_tpm  siCTRL_with_IFN_tpm  siMITF_wo_IFN_tpm  \\\n",
       "ENSG00000000003          24.864996            22.810767          23.996147   \n",
       "ENSG00000000005           0.000000             0.000000           0.000000   \n",
       "ENSG00000000419         148.830008           143.782572         159.665244   \n",
       "ENSG00000000457           6.434201             9.625513           9.285772   \n",
       "ENSG00000000460          42.553495            32.939327          33.307114   \n",
       "\n",
       "                 siMITF_with_IFN_tpm  average_expression_tpm  \\\n",
       "ENSG00000000003            23.638828               23.827684   \n",
       "ENSG00000000005             0.000000                0.000000   \n",
       "ENSG00000000419           156.673309              152.237783   \n",
       "ENSG00000000457            11.832608                9.294523   \n",
       "ENSG00000000460            22.274693               32.768657   \n",
       "\n",
       "                 max_expression_tpm    geneID  \\\n",
       "ENSG00000000003           24.864996    TSPAN6   \n",
       "ENSG00000000005            0.000000      TNMD   \n",
       "ENSG00000000419          159.665244      DPM1   \n",
       "ENSG00000000457           11.832608     SCYL3   \n",
       "ENSG00000000460           42.553495  C1orf112   \n",
       "\n",
       "                                                      description  \n",
       "ENSG00000000003                                    tetraspanin 6   \n",
       "ENSG00000000005                                      tenomodulin   \n",
       "ENSG00000000419  dolichyl-phosphate mannosyltransferase subunit 1  \n",
       "ENSG00000000457                         SCY1 like pseudokinase 3   \n",
       "ENSG00000000460              chromosome 1 open reading frame 112   "
      ]
     },
     "execution_count": 10,
     "metadata": {},
     "output_type": "execute_result"
    }
   ],
   "source": [
    "plotting_df['average_expression_tpm'] = plotting_df.mean(axis=1)\n",
    "plotting_df['max_expression_tpm'] = plotting_df.max(axis=1)\n",
    "\n",
    "plotting_df['geneID'] = annotation['gene_name']\n",
    "plotting_df['description'] = annotation['description']\n",
    "\n",
    "print(plotting_df.shape)\n",
    "plotting_df.head()"
   ]
  },
  {
   "cell_type": "markdown",
   "id": "868730c5",
   "metadata": {},
   "source": [
    "# 3. add fold-changes of each independent effect"
   ]
  },
  {
   "cell_type": "code",
   "execution_count": 11,
   "id": "aa5d2a9c",
   "metadata": {},
   "outputs": [
    {
     "data": {
      "text/html": [
       "<div>\n",
       "<style scoped>\n",
       "    .dataframe tbody tr th:only-of-type {\n",
       "        vertical-align: middle;\n",
       "    }\n",
       "\n",
       "    .dataframe tbody tr th {\n",
       "        vertical-align: top;\n",
       "    }\n",
       "\n",
       "    .dataframe thead th {\n",
       "        text-align: right;\n",
       "    }\n",
       "</style>\n",
       "<table border=\"1\" class=\"dataframe\">\n",
       "  <thead>\n",
       "    <tr style=\"text-align: right;\">\n",
       "      <th></th>\n",
       "      <th>siCTRL_wo_IFN_tpm</th>\n",
       "      <th>siCTRL_with_IFN_tpm</th>\n",
       "      <th>siMITF_wo_IFN_tpm</th>\n",
       "      <th>siMITF_with_IFN_tpm</th>\n",
       "      <th>average_expression_tpm</th>\n",
       "      <th>max_expression_tpm</th>\n",
       "      <th>geneID</th>\n",
       "      <th>description</th>\n",
       "      <th>A1A0_log2fc</th>\n",
       "      <th>B0A0_log2fc</th>\n",
       "    </tr>\n",
       "  </thead>\n",
       "  <tbody>\n",
       "    <tr>\n",
       "      <th>ENSG00000000003</th>\n",
       "      <td>24.864996</td>\n",
       "      <td>22.810767</td>\n",
       "      <td>23.996147</td>\n",
       "      <td>23.638828</td>\n",
       "      <td>23.827684</td>\n",
       "      <td>24.864996</td>\n",
       "      <td>TSPAN6</td>\n",
       "      <td>tetraspanin 6</td>\n",
       "      <td>-0.119387</td>\n",
       "      <td>-0.049295</td>\n",
       "    </tr>\n",
       "    <tr>\n",
       "      <th>ENSG00000000005</th>\n",
       "      <td>0.000000</td>\n",
       "      <td>0.000000</td>\n",
       "      <td>0.000000</td>\n",
       "      <td>0.000000</td>\n",
       "      <td>0.000000</td>\n",
       "      <td>0.000000</td>\n",
       "      <td>TNMD</td>\n",
       "      <td>tenomodulin</td>\n",
       "      <td>0.000000</td>\n",
       "      <td>0.000000</td>\n",
       "    </tr>\n",
       "    <tr>\n",
       "      <th>ENSG00000000419</th>\n",
       "      <td>148.830008</td>\n",
       "      <td>143.782572</td>\n",
       "      <td>159.665244</td>\n",
       "      <td>156.673309</td>\n",
       "      <td>152.237783</td>\n",
       "      <td>159.665244</td>\n",
       "      <td>DPM1</td>\n",
       "      <td>dolichyl-phosphate mannosyltransferase subunit 1</td>\n",
       "      <td>-0.049439</td>\n",
       "      <td>0.100731</td>\n",
       "    </tr>\n",
       "    <tr>\n",
       "      <th>ENSG00000000457</th>\n",
       "      <td>6.434201</td>\n",
       "      <td>9.625513</td>\n",
       "      <td>9.285772</td>\n",
       "      <td>11.832608</td>\n",
       "      <td>9.294523</td>\n",
       "      <td>11.832608</td>\n",
       "      <td>SCYL3</td>\n",
       "      <td>SCY1 like pseudokinase 3</td>\n",
       "      <td>0.515283</td>\n",
       "      <td>0.468401</td>\n",
       "    </tr>\n",
       "    <tr>\n",
       "      <th>ENSG00000000460</th>\n",
       "      <td>42.553495</td>\n",
       "      <td>32.939327</td>\n",
       "      <td>33.307114</td>\n",
       "      <td>22.274693</td>\n",
       "      <td>32.768657</td>\n",
       "      <td>42.553495</td>\n",
       "      <td>C1orf112</td>\n",
       "      <td>chromosome 1 open reading frame 112</td>\n",
       "      <td>-0.359831</td>\n",
       "      <td>-0.344281</td>\n",
       "    </tr>\n",
       "  </tbody>\n",
       "</table>\n",
       "</div>"
      ],
      "text/plain": [
       "                 siCTRL_wo_IFN_tpm  siCTRL_with_IFN_tpm  siMITF_wo_IFN_tpm  \\\n",
       "ENSG00000000003          24.864996            22.810767          23.996147   \n",
       "ENSG00000000005           0.000000             0.000000           0.000000   \n",
       "ENSG00000000419         148.830008           143.782572         159.665244   \n",
       "ENSG00000000457           6.434201             9.625513           9.285772   \n",
       "ENSG00000000460          42.553495            32.939327          33.307114   \n",
       "\n",
       "                 siMITF_with_IFN_tpm  average_expression_tpm  \\\n",
       "ENSG00000000003            23.638828               23.827684   \n",
       "ENSG00000000005             0.000000                0.000000   \n",
       "ENSG00000000419           156.673309              152.237783   \n",
       "ENSG00000000457            11.832608                9.294523   \n",
       "ENSG00000000460            22.274693               32.768657   \n",
       "\n",
       "                 max_expression_tpm    geneID  \\\n",
       "ENSG00000000003           24.864996    TSPAN6   \n",
       "ENSG00000000005            0.000000      TNMD   \n",
       "ENSG00000000419          159.665244      DPM1   \n",
       "ENSG00000000457           11.832608     SCYL3   \n",
       "ENSG00000000460           42.553495  C1orf112   \n",
       "\n",
       "                                                      description  \\\n",
       "ENSG00000000003                                    tetraspanin 6    \n",
       "ENSG00000000005                                      tenomodulin    \n",
       "ENSG00000000419  dolichyl-phosphate mannosyltransferase subunit 1   \n",
       "ENSG00000000457                         SCY1 like pseudokinase 3    \n",
       "ENSG00000000460              chromosome 1 open reading frame 112    \n",
       "\n",
       "                 A1A0_log2fc  B0A0_log2fc  \n",
       "ENSG00000000003    -0.119387    -0.049295  \n",
       "ENSG00000000005     0.000000     0.000000  \n",
       "ENSG00000000419    -0.049439     0.100731  \n",
       "ENSG00000000457     0.515283     0.468401  \n",
       "ENSG00000000460    -0.359831    -0.344281  "
      ]
     },
     "execution_count": 11,
     "metadata": {},
     "output_type": "execute_result"
    }
   ],
   "source": [
    "plotting_df['A1A0_log2fc'] = numpy.log2(plotting_df['siCTRL_with_IFN_tpm']+1) - numpy.log2(plotting_df['siCTRL_wo_IFN_tpm']+1)\n",
    "plotting_df['B0A0_log2fc'] = numpy.log2(plotting_df['siMITF_wo_IFN_tpm']+1) - numpy.log2(plotting_df['siCTRL_wo_IFN_tpm']+1)\n",
    "\n",
    "plotting_df.head()"
   ]
  },
  {
   "cell_type": "markdown",
   "id": "4b5df12c",
   "metadata": {},
   "source": [
    "# 4. read fold changes and P values from DESeq2"
   ]
  },
  {
   "cell_type": "code",
   "execution_count": 23,
   "id": "25199013",
   "metadata": {},
   "outputs": [
    {
     "name": "stdout",
     "output_type": "stream",
     "text": [
      "0.0256259167943598\n",
      "0.0476199536496551\n",
      "0.0043564114633126\n"
     ]
    }
   ],
   "source": [
    "# read signifcances\n",
    "df = pandas.read_csv(significance_dir+'A0_A1_transition.tsv', sep='\\t', index_col=0)\n",
    "print(numpy.max(df[df['padj'] < 0.1]['pvalue']))\n",
    "plotting_df['P_A1A0'] = df['padj']\n",
    "\n",
    "df = pandas.read_csv(significance_dir+'A0_B0_transition.tsv', sep='\\t', index_col=0)\n",
    "print(numpy.max(df[df['padj'] < 0.1]['pvalue']))\n",
    "plotting_df['P_B0A0'] = df['padj']\n",
    "\n",
    "df = pandas.read_csv(significance_dir+'interaction.tsv', sep='\\t', index_col=0)\n",
    "print(numpy.max(df[df['padj'] < 0.1]['pvalue']))\n",
    "plotting_df['P_interaction'] = df['padj']"
   ]
  },
  {
   "cell_type": "code",
   "execution_count": 26,
   "id": "5643a525",
   "metadata": {},
   "outputs": [
    {
     "data": {
      "text/plain": [
       "['A0_B0_transition.tsv', 'interaction.tsv', 'A0_A1_transition.tsv']"
      ]
     },
     "execution_count": 26,
     "metadata": {},
     "output_type": "execute_result"
    }
   ],
   "source": [
    "os.listdir(significance_dir)"
   ]
  },
  {
   "cell_type": "code",
   "execution_count": null,
   "id": "f92bf41a",
   "metadata": {},
   "outputs": [],
   "source": []
  },
  {
   "cell_type": "code",
   "execution_count": null,
   "id": "be441c0d",
   "metadata": {},
   "outputs": [],
   "source": []
  },
  {
   "cell_type": "code",
   "execution_count": null,
   "id": "239769d6",
   "metadata": {},
   "outputs": [],
   "source": [
    "working line"
   ]
  },
  {
   "cell_type": "markdown",
   "id": "5cbf8efe",
   "metadata": {},
   "source": [
    "# 5. remove element whose top expression is below 2 TPM"
   ]
  },
  {
   "cell_type": "code",
   "execution_count": null,
   "id": "f18116a6",
   "metadata": {},
   "outputs": [],
   "source": [
    "plotting_df.fillna(1, inplace=True)"
   ]
  },
  {
   "cell_type": "code",
   "execution_count": null,
   "id": "9e991f88",
   "metadata": {},
   "outputs": [],
   "source": [
    "# remove low-expression genes: less than two tpm\n",
    "print(plotting_df.shape)\n",
    "plotting_df.drop(plotting_df[plotting_df['max_expression_tpm'] < 2].index, inplace=True)\n",
    "print(plotting_df.shape)"
   ]
  },
  {
   "cell_type": "code",
   "execution_count": null,
   "id": "a4bc98ca",
   "metadata": {},
   "outputs": [],
   "source": [
    "plotting_df.head()"
   ]
  },
  {
   "cell_type": "code",
   "execution_count": null,
   "id": "d2739d21",
   "metadata": {},
   "outputs": [],
   "source": [
    "plotting_df.loc['ENSG00000284610', ]"
   ]
  },
  {
   "cell_type": "code",
   "execution_count": null,
   "id": "baed8276",
   "metadata": {},
   "outputs": [],
   "source": [
    "# these numbers is to see the effect of removing low-expressed genes, it is not represtantive of the final set of genes, specially for the interaction\n",
    "# originally, at the significance level we had A1A0: 4,414; B0A0: 9,116 and interaction: 700\n",
    "print(sum(plotting_df['P_A1A0'] < 0.1))\n",
    "print(sum(plotting_df['P_B0A0'] < 0.1))\n",
    "print(sum(plotting_df['P_interaction'] < 0.1))"
   ]
  },
  {
   "cell_type": "code",
   "execution_count": null,
   "id": "54047077",
   "metadata": {},
   "outputs": [],
   "source": [
    "rule_IFN = (plotting_df['P_A1A0'] < 0.1) & (numpy.abs(plotting_df['A1A0_log2fc']) > 1)\n",
    "rule_MITF = (plotting_df['P_B0A0'] < 0.1) & (numpy.abs(plotting_df['B0A0_log2fc']) > 1)\n",
    "\n",
    "print(plotting_df[rule_IFN].shape)\n",
    "print(plotting_df[rule_MITF].shape)\n",
    "print(plotting_df[rule_IFN & rule_MITF].shape)"
   ]
  },
  {
   "cell_type": "code",
   "execution_count": null,
   "id": "7996674b",
   "metadata": {},
   "outputs": [],
   "source": [
    "v = matplotlib_venn.venn2(\n",
    "    subsets=(335, 778, 47),\n",
    "    set_labels = ('IFN', 'siMITF'),\n",
    "    set_colors=(\"skyblue\", \"gold\"),\n",
    ")\n",
    "  \n",
    "matplotlib_venn.venn2_circles(\n",
    "    subsets=(335, 778, 47),\n",
    "    lw=2\n",
    ")\n",
    "for text in v.set_labels:\n",
    "    text.set_fontsize(50)\n",
    "for x in range(len(v.subset_labels)):\n",
    "    if v.subset_labels[x] is not None:\n",
    "        v.subset_labels[x].set_fontsize(30)\n",
    "matplotlib.pyplot.show()"
   ]
  },
  {
   "cell_type": "code",
   "execution_count": null,
   "id": "f89f6ff2",
   "metadata": {},
   "outputs": [],
   "source": [
    "# check if MITF is A0 to B0 transition\n",
    "print('ENSG00000187098' in plotting_df[plotting_df['P_B0A0'] < 0.1].index)\n",
    "\n",
    "# check if PD-L1 is a gene with significant interaction\n",
    "print('ENSG00000120217' in plotting_df[plotting_df['P_interaction'] < 0.1].index)"
   ]
  },
  {
   "cell_type": "markdown",
   "id": "12df3935",
   "metadata": {},
   "source": [
    "# 6. add a column of the expected expression given both factors"
   ]
  },
  {
   "cell_type": "code",
   "execution_count": null,
   "id": "1b3d18f2",
   "metadata": {},
   "outputs": [],
   "source": [
    "# add expected expression\n",
    "deltaA = plotting_df['siCTRL_with_IFN_tpm'] - plotting_df['siCTRL_wo_IFN_tpm']\n",
    "deltaB = plotting_df['siMITF_wo_IFN_tpm'] - plotting_df['siCTRL_wo_IFN_tpm']\n",
    "expected = plotting_df['siCTRL_wo_IFN_tpm'] + deltaA + deltaB\n",
    "plotting_df['expected'] = expected \n",
    "plotting_df.loc[plotting_df['expected'] < 0,'expected'] = 0 # avoid predicting negative expression\n",
    "\n",
    "plotting_df.head()"
   ]
  },
  {
   "cell_type": "markdown",
   "id": "4fd433a9",
   "metadata": {},
   "source": [
    "# 7. determine non-linear effects at fold-change level"
   ]
  },
  {
   "cell_type": "code",
   "execution_count": null,
   "id": "953277f0",
   "metadata": {},
   "outputs": [],
   "source": [
    "# add log2FC observed / expected expression\n",
    "non_additive = numpy.log2(plotting_df['siMITF_with_IFN_tpm']+1) - numpy.log2(plotting_df['expected']+1)\n",
    "plotting_df['log2FC_observed_expected'] = non_additive\n",
    "\n",
    "plotting_df.head()"
   ]
  },
  {
   "cell_type": "markdown",
   "id": "573cd168",
   "metadata": {},
   "source": [
    "# 8. learn type of non-additive effect"
   ]
  },
  {
   "cell_type": "code",
   "execution_count": null,
   "id": "55fda914",
   "metadata": {},
   "outputs": [],
   "source": [
    "plotting_df['interaction_type'] = 'not avail.'\n",
    "\n",
    "for ensembl, row in plotting_df.iterrows():\n",
    "        \n",
    "    CT = plotting_df.loc[ensembl, 'siCTRL_wo_IFN_tpm']\n",
    "    A = plotting_df.loc[ensembl, 'siCTRL_with_IFN_tpm']\n",
    "    B = plotting_df.loc[ensembl, 'siMITF_wo_IFN_tpm']\n",
    "    obs = plotting_df.loc[ensembl, 'siMITF_with_IFN_tpm']\n",
    "    AB = plotting_df.loc[ensembl, 'expected']\n",
    "    \n",
    "    ### case (i) in Figure 2 from PMID 25897392\n",
    "    if A < CT and B < CT:\n",
    "        if obs > CT:\n",
    "            relationship = '+S'\n",
    "        elif CT > obs > AB:\n",
    "            relationship = '-A'\n",
    "        elif obs < AB:\n",
    "            relationship = '-S'\n",
    "        elif obs == AB:\n",
    "            relationship = 'additive'\n",
    "        else:\n",
    "            print(CT, A, B, AB, obs)            \n",
    "            raise ValueError('case (i) not handled')\n",
    "            \n",
    "    ### case (ii) in Figure 2 from PMID 25897392\n",
    "    elif (A > CT and B < CT) or (A < CT and B > CT):\n",
    "        if obs > numpy.max([A, B]):\n",
    "            relationship = '+S'\n",
    "        elif numpy.max([A, B]) > obs > AB:\n",
    "            relationship = '-A'\n",
    "        elif AB > obs >= numpy.min([A, B]): # the equal here is for full +A\n",
    "            relationship = '+A'\n",
    "        elif obs < numpy.min([A, B]):\n",
    "            relationship = '-S'\n",
    "        else:\n",
    "            print(CT, A, B, AB, obs)\n",
    "            raise ValueError('case (ii) not handled')\n",
    "    \n",
    "    ### case (iii) in Figure 2 from PMID 25897392\n",
    "    elif A >= CT and B >= CT:\n",
    "        if obs > AB:\n",
    "            relationship = '+S'\n",
    "        elif AB > obs >= CT: # the equal here is bc it goes back to zero, full +A\n",
    "            relationship = '+A'\n",
    "        elif obs < CT:\n",
    "            relationship = '-S'\n",
    "        else:\n",
    "            print(CT, A, B, AB, obs)\n",
    "            raise ValueError('case (iii) not handled')\n",
    "    else:\n",
    "        print(CT, A, B, AB, obs)\n",
    "        raise ValueError('unknown case not handled')\n",
    "        \n",
    "    # assignment\n",
    "    plotting_df.loc[ensembl, 'interaction_type'] = relationship"
   ]
  },
  {
   "cell_type": "markdown",
   "id": "7dea7e0e",
   "metadata": {},
   "source": [
    "# 8. exploratory subsetting"
   ]
  },
  {
   "cell_type": "code",
   "execution_count": null,
   "id": "88410912",
   "metadata": {},
   "outputs": [],
   "source": [
    "# expecting 222 passing log2 filter\n",
    "\n",
    "non_additive_df = plotting_df[numpy.abs(plotting_df['log2FC_observed_expected']) > 1]\n",
    "print(non_additive_df.shape)\n",
    "non_additive_df.head()"
   ]
  },
  {
   "cell_type": "code",
   "execution_count": null,
   "id": "6c3123e8",
   "metadata": {},
   "outputs": [],
   "source": [
    "# expecting 66 passing both significance and log2 filters\n",
    "\n",
    "non_additive_and_significant_df = plotting_df[(numpy.abs(plotting_df['log2FC_observed_expected']) > 1) & (plotting_df['P_interaction'] < 0.05)]\n",
    "\n",
    "# check if PD-L1 is a gene with significant interaction (ENSG00000120217)\n",
    "print('ENSG00000120217' in non_additive_and_significant_df.index)\n",
    "\n",
    "print(non_additive_and_significant_df.shape)\n",
    "non_additive_and_significant_df.head()"
   ]
  },
  {
   "cell_type": "code",
   "execution_count": null,
   "id": "f295d1f4",
   "metadata": {},
   "outputs": [],
   "source": [
    "# expecting 86 cases of more than 150% change\n",
    "\n",
    "# border-line cases, 13 cases for 0.9 up to 1.\n",
    "# if we we a threshold of 150%, then we have 86, including PD-L1\n",
    "border_line = plotting_df[(plotting_df['P_interaction'] < 0.05) & (numpy.abs(plotting_df['log2FC_observed_expected']) > numpy.log2(1.5)) & (numpy.abs(plotting_df['log2FC_observed_expected']) < 1)]\n",
    "print('CD274' in border_line['geneID'].values)\n",
    "print(border_line.shape)\n",
    "border_line"
   ]
  },
  {
   "cell_type": "code",
   "execution_count": null,
   "id": "7cdb37a8",
   "metadata": {},
   "outputs": [],
   "source": [
    "border_line.loc['ENSG00000120217', ] # CD274"
   ]
  },
  {
   "cell_type": "markdown",
   "id": "1570a336",
   "metadata": {},
   "source": [
    "# 9. actual subsetting"
   ]
  },
  {
   "cell_type": "code",
   "execution_count": null,
   "id": "65b92b9b",
   "metadata": {},
   "outputs": [],
   "source": [
    "# plotting set A (n = 66): log2(2) + P\n",
    "# plotting set B (n = 222): log2(2)\n",
    "# plotting set C (n = 152): log2(1.5) + P\n",
    "# plotting set D (n = 619): log2(1.5)\n",
    "\n",
    "plotting_setA = plotting_df[(numpy.abs(plotting_df['log2FC_observed_expected']) > 1) & (plotting_df['P_interaction'] < 0.05)]\n",
    "print(plotting_setA.shape)\n",
    "\n",
    "plotting_setB = plotting_df[(numpy.abs(plotting_df['log2FC_observed_expected']) > 1)]\n",
    "print(plotting_setB.shape)\n",
    "\n",
    "plotting_setC = plotting_df[(numpy.abs(plotting_df['log2FC_observed_expected']) > numpy.log2(1.5)) & (plotting_df['P_interaction'] < 0.05)]\n",
    "print(plotting_setC.shape)\n",
    "\n",
    "plotting_setD = plotting_df[(numpy.abs(plotting_df['log2FC_observed_expected']) > numpy.log2(1.5))]\n",
    "print(plotting_setD.shape)"
   ]
  },
  {
   "cell_type": "markdown",
   "id": "1d1f6634",
   "metadata": {},
   "source": [
    "# 10. plot"
   ]
  },
  {
   "cell_type": "markdown",
   "id": "f14053d4",
   "metadata": {},
   "source": [
    "## 10.3. set C"
   ]
  },
  {
   "cell_type": "code",
   "execution_count": null,
   "id": "466193be",
   "metadata": {
    "scrolled": false
   },
   "outputs": [],
   "source": [
    "def figure_builder(figure_label, sub, axes_lims):\n",
    "    \n",
    "    sub.drop_duplicates('geneID', inplace=True)\n",
    "    print(sub.shape)\n",
    "    \n",
    "    fig, (left_panel, right_panel) = matplotlib.pyplot.subplots(1, 2, figsize=(16, 9), subplot_kw=dict(box_aspect=1))\n",
    "    \n",
    "    counter = 0\n",
    "    \n",
    "    for ensembl, row in sub.iterrows():\n",
    "        counter = counter + 1\n",
    "\n",
    "        ### left panel\n",
    "        x = sub.loc[ensembl, 'A1A0_log2fc']\n",
    "        y = sub.loc[ensembl, 'B0A0_log2fc']\n",
    "        z = sub.loc[ensembl, 'average_expression_tpm']\n",
    "        \n",
    "        left_panel.scatter(x, y, s=300, c='black', alpha=2/3, edgecolor='none')\n",
    "        if figure_label == 'caseA':\n",
    "            pass\n",
    "        elif figure_label == 'caseB':\n",
    "            if z > 5:\n",
    "                if x < 0 or x >= 3:\n",
    "                    left_panel.text(x, y, sub.loc[ensembl, 'geneID'], horizontalalignment='left', verticalalignment='bottom', fontsize=14, fontstyle='italic')\n",
    "                if 1 <= x < 2:\n",
    "                    left_panel.text(x, y+2, sub.loc[ensembl, 'geneID'], horizontalalignment='center', verticalalignment='bottom', fontsize=14, fontstyle='italic')\n",
    "                if 2 <= x < 3:\n",
    "                    left_panel.text(x, y+4, sub.loc[ensembl, 'geneID'], horizontalalignment='center', verticalalignment='bottom', fontsize=14, fontstyle='italic')\n",
    "        elif figure_label == 'caseC':\n",
    "            if x > 0:\n",
    "                shift = 4\n",
    "            else:\n",
    "                shift = -2\n",
    "            left_panel.text(x+shift, y, sub.loc[ensembl, 'geneID'], horizontalalignment='center', verticalalignment='bottom', fontsize=14, fontstyle='italic')\n",
    "            \n",
    "        elif figure_label == 'caseD':\n",
    "            left_panel.text(x, y, sub.loc[ensembl, 'geneID'], horizontalalignment='center', verticalalignment='bottom', fontsize=14, fontstyle='italic')\n",
    "        else:\n",
    "            raise ValueError('error while defining text labels on left panel')\n",
    "            \n",
    "        ### right panel\n",
    "        x = sub.loc[ensembl, 'average_expression_tpm']\n",
    "        y = sub.loc[ensembl, 'log2FC_observed_expected']\n",
    "\n",
    "        # set the color\n",
    "        if sub.loc[ensembl, 'interaction_type'] == '+S':\n",
    "            the_color = 'tab:red'\n",
    "        elif sub.loc[ensembl, 'interaction_type'] == '+A':\n",
    "            the_color = 'tab:orange'\n",
    "        elif sub.loc[ensembl, 'interaction_type'] == '-A':\n",
    "            the_color = 'tab:green'\n",
    "        elif sub.loc[ensembl, 'interaction_type'] == '-S':\n",
    "            the_color = 'tab:blue'\n",
    "        else:\n",
    "            the_color = 'black'\n",
    "\n",
    "        ### define the size\n",
    "        if numpy.abs(y) > 1:\n",
    "            the_size = 300\n",
    "        else:\n",
    "            the_size = 100\n",
    "        \n",
    "        # plot\n",
    "        right_panel.scatter(x, y, s=the_size, marker='o', c=the_color, alpha=2/3, edgecolor='none')\n",
    "\n",
    "        # set the labels\n",
    "        if x > 5:\n",
    "            right_panel.text(x, y, sub.loc[ensembl, 'geneID'], horizontalalignment='left', verticalalignment='bottom', fontsize=14, fontstyle='italic')\n",
    "\n",
    "        # print for building tables and enrichments\n",
    "        #print(ensembl)\n",
    "        print('{}\\t{}\\t{}\\t{}'.format(counter, ensembl, sub.loc[ensembl, 'geneID'], sub.loc[ensembl, 'description']))\n",
    "            \n",
    "    # close left panel\n",
    "    left_panel.set_xlim([axes_lims[0], axes_lims[1]])\n",
    "    left_panel.set_ylim([axes_lims[0], axes_lims[1]])\n",
    "    left_panel.set_xticks([-3, -2, -1, 0, 1, 2, 3, 4, 5, 6, 7, 8])\n",
    "    left_panel.set_yticks([-3, -2, -1, 0, 1, 2, 3, 4, 5, 6, 7, 8])\n",
    "    left_panel.set_xlabel('IFN effect [log$_2$FC]')\n",
    "    left_panel.set_ylabel('siMITF effect [log$_2$FC]')\n",
    "    the_patch = matplotlib.patches.Rectangle((-1,-1), 2, 2, edgecolor='black', facecolor='none', ls='--', alpha=2/3)\n",
    "    left_panel.add_patch(the_patch)\n",
    "    left_panel.grid(alpha=0.5, ls=':')\n",
    "    left_panel.set_aspect('equal', 'box')\n",
    "    \n",
    "    # close right panel\n",
    "    right_panel.set_xscale(\"log\")\n",
    "    \n",
    "    right_panel.set_xticks([1, 10, 100, 1000], ['1', '10', '100', '1,000'])\n",
    "    right_panel.set_yticks([-6, -5, -4, -3, -2, -1, 0, 1, 2, 3, 4, 5, 6])\n",
    "    right_panel.set_xlim([axes_lims[2], axes_lims[3]])\n",
    "    right_panel.set_ylim([axes_lims[4], axes_lims[5]])\n",
    "    right_panel.set_xlabel('Average expression [TPM]')\n",
    "    right_panel.set_ylabel('Non-additive effect [log$_2$FC]')\n",
    "    right_panel.axhline(numpy.log2(1.5), ls='--', color='black', zorder=0, alpha=1/2)\n",
    "    right_panel.axhline(-numpy.log2(1.5), ls='--', color='black', zorder=0, alpha=1/2)\n",
    "    legend_elements = [\n",
    "        matplotlib.lines.Line2D([0], [0], marker='o', color='white', markerfacecolor='tab:red', markersize=20, alpha=2/3),\n",
    "        matplotlib.lines.Line2D([0], [0], marker='o', color='white', markerfacecolor='tab:orange', markersize=20, alpha=2/3),\n",
    "        matplotlib.lines.Line2D([0], [0], marker='o', color='white', markerfacecolor='tab:green', markersize=20, alpha=2/3),\n",
    "        matplotlib.lines.Line2D([0], [0], marker='o', color='white', markerfacecolor='tab:blue', markersize=20, alpha=2/3)\n",
    "    ]\n",
    "    right_panel.legend(legend_elements, ['+S', '+A', '-A', '-S'], loc=4)\n",
    "    right_panel.grid(alpha=0.5, ls=':')   \n",
    "\n",
    "    matplotlib.pyplot.tight_layout()\n",
    "    #matplotlib.pyplot.show()\n",
    "    \n",
    "    matplotlib.pyplot.savefig(figure_label+'.svg')\n",
    "    \n",
    "    # last print\n",
    "    print('number of genes in the figure: {}'.format(counter))\n",
    "    print()    \n",
    "    \n",
    "    return None\n",
    "\n",
    "###\n",
    "### define general limits\n",
    "###\n",
    "\n",
    "axes_lims = [-3.8, 8.4, 0.6, 2900, -6.2, 6.2]\n",
    "\n",
    "x = plotting_setC['A1A0_log2fc'].values\n",
    "y = plotting_setC['B0A0_log2fc'].values\n",
    "print(min(x), max(x))\n",
    "print(min(y), max(y))\n",
    "\n",
    "x = plotting_setC['average_expression_tpm'].values\n",
    "y = plotting_setC['log2FC_observed_expected'].values\n",
    "print(min(x), max(x))\n",
    "print(min(y), max(y))\n",
    "print('')\n",
    "\n",
    "## case of non-additive effects when nothing observed upon single factor\n",
    "sub = plotting_setC[(numpy.abs(plotting_setC['A1A0_log2fc']) < 1) & (numpy.abs(plotting_setC['B0A0_log2fc']) < 1)]\n",
    "figure_builder('caseA', sub, axes_lims)\n",
    "\n",
    "## case IFN-only effect\n",
    "sub = plotting_setC[(numpy.abs(plotting_setC['A1A0_log2fc']) > 1) & (numpy.abs(plotting_setC['B0A0_log2fc']) < 1)]\n",
    "figure_builder('caseB', sub, axes_lims)\n",
    "\n",
    "### case siMITF-only effect\n",
    "sub = plotting_setC[(numpy.abs(plotting_setC['A1A0_log2fc']) < 1) & (numpy.abs(plotting_setC['B0A0_log2fc']) > 1)]\n",
    "figure_builder('caseC', sub, axes_lims)\n",
    "\n",
    "#! case both IFN and siMITF effect\n",
    "sub = plotting_setC[(numpy.abs(plotting_setC['A1A0_log2fc']) > 1) & (numpy.abs(plotting_setC['B0A0_log2fc']) > 1)]\n",
    "figure_builder('caseD', sub, axes_lims)"
   ]
  }
 ],
 "metadata": {
  "kernelspec": {
   "display_name": "Python 3 (ipykernel)",
   "language": "python",
   "name": "python3"
  },
  "language_info": {
   "codemirror_mode": {
    "name": "ipython",
    "version": 3
   },
   "file_extension": ".py",
   "mimetype": "text/x-python",
   "name": "python",
   "nbconvert_exporter": "python",
   "pygments_lexer": "ipython3",
   "version": "3.9.16"
  }
 },
 "nbformat": 4,
 "nbformat_minor": 5
}
